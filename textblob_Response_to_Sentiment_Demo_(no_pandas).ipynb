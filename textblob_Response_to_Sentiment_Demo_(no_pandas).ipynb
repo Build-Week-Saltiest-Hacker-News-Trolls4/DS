{
  "nbformat": 4,
  "nbformat_minor": 0,
  "metadata": {
    "colab": {
      "name": "textblob Response to Sentiment Demo (no pandas)",
      "provenance": []
    },
    "kernelspec": {
      "name": "python3",
      "display_name": "Python 3"
    }
  },
  "cells": [
    {
      "cell_type": "code",
      "metadata": {
        "id": "Z2omqxX_3SJm",
        "colab_type": "code",
        "colab": {
          "base_uri": "https://localhost:8080/",
          "height": 101
        },
        "outputId": "1231766f-313a-4860-90f9-da8d9a4401ed"
      },
      "source": [
        "!pip install -U textblob\n",
        "\n",
        "import requests\n",
        "\n",
        "import nltk\n",
        "nltk.download('punkt')\n",
        "from textblob import TextBlob"
      ],
      "execution_count": 16,
      "outputs": [
        {
          "output_type": "stream",
          "text": [
            "Requirement already up-to-date: textblob in /usr/local/lib/python3.6/dist-packages (0.15.3)\n",
            "Requirement already satisfied, skipping upgrade: nltk>=3.1 in /usr/local/lib/python3.6/dist-packages (from textblob) (3.2.5)\n",
            "Requirement already satisfied, skipping upgrade: six in /usr/local/lib/python3.6/dist-packages (from nltk>=3.1->textblob) (1.12.0)\n",
            "[nltk_data] Downloading package punkt to /root/nltk_data...\n",
            "[nltk_data]   Unzipping tokenizers/punkt.zip.\n"
          ],
          "name": "stdout"
        }
      ]
    },
    {
      "cell_type": "markdown",
      "metadata": {
        "id": "RsSwWSRAeKm1",
        "colab_type": "text"
      },
      "source": [
        "#Sentiment from single Comment"
      ]
    },
    {
      "cell_type": "code",
      "metadata": {
        "id": "EkyA7e0Q3Xm8",
        "colab_type": "code",
        "outputId": "4e2e5083-8261-4ae5-eccc-de6b7fd2dfb7",
        "colab": {
          "base_uri": "https://localhost:8080/",
          "height": 134
        }
      },
      "source": [
        "response = requests.get('https://hacker-news.firebaseio.com/v0/item/54939.json')\n",
        "\n",
        "# Confirm connection success.\n",
        "if response:\n",
        "    print('Success!')\n",
        "else:\n",
        "    print('An error has occurred.')\n"
      ],
      "execution_count": 17,
      "outputs": [
        {
          "output_type": "stream",
          "text": [
            "Success!\n"
          ],
          "name": "stdout"
        },
        {
          "output_type": "execute_result",
          "data": {
            "text/plain": [
              "{'by': 'cellis',\n",
              " 'id': 54939,\n",
              " 'parent': 54901,\n",
              " 'text': 'I think we all lucid dream a little too much :) Its an entrepreneurial trait.\\n',\n",
              " 'time': 1189874776,\n",
              " 'type': 'comment'}"
            ]
          },
          "metadata": {
            "tags": []
          },
          "execution_count": 17
        }
      ]
    },
    {
      "cell_type": "code",
      "metadata": {
        "id": "uNKAFKHa3sfq",
        "colab_type": "code",
        "colab": {}
      },
      "source": [
        "#Access Hacker News API through json file and save comment text to variable\n",
        "text = response.json()['text']"
      ],
      "execution_count": 0,
      "outputs": []
    },
    {
      "cell_type": "code",
      "metadata": {
        "id": "97GMnDWP4R4l",
        "colab_type": "code",
        "outputId": "efaa83d7-f939-456b-eacb-91fcd19b50ee",
        "colab": {
          "base_uri": "https://localhost:8080/",
          "height": 34
        }
      },
      "source": [
        "#Convert string into TextBlob\n",
        "blob = TextBlob(text)\n",
        "#Print polarity of each sentence\n",
        "for sentence in blob.sentences:\n",
        "  print(sentence.sentiment.polarity)"
      ],
      "execution_count": 21,
      "outputs": [
        {
          "output_type": "stream",
          "text": [
            "0.1708333333333333\n"
          ],
          "name": "stdout"
        }
      ]
    },
    {
      "cell_type": "markdown",
      "metadata": {
        "id": "arsTXAP9eQ9l",
        "colab_type": "text"
      },
      "source": [
        "#Sentiment From User's Comments"
      ]
    },
    {
      "cell_type": "code",
      "metadata": {
        "id": "Fwmxie824TMP",
        "colab_type": "code",
        "colab": {
          "base_uri": "https://localhost:8080/",
          "height": 34
        },
        "outputId": "6167b5aa-9426-4ef4-cb06-ad0ce21278c5"
      },
      "source": [
        "response = requests.get('https://hacker-news.firebaseio.com/v0/user/swiley.json')\n",
        "\n",
        "# Confirm connection success.\n",
        "if response:\n",
        "    print('Success!')\n",
        "else:\n",
        "    print('An error has occurred.')\n"
      ],
      "execution_count": 42,
      "outputs": [
        {
          "output_type": "stream",
          "text": [
            "Success!\n"
          ],
          "name": "stdout"
        }
      ]
    },
    {
      "cell_type": "code",
      "metadata": {
        "id": "Y_SPzCt4fqUV",
        "colab_type": "code",
        "colab": {
          "base_uri": "https://localhost:8080/",
          "height": 34
        },
        "outputId": "653c68d4-6e78-47b1-e2c4-94b52d32fbe9"
      },
      "source": [
        "response.json()['submitted'][10]"
      ],
      "execution_count": 43,
      "outputs": [
        {
          "output_type": "execute_result",
          "data": {
            "text/plain": [
              "21813872"
            ]
          },
          "metadata": {
            "tags": []
          },
          "execution_count": 43
        }
      ]
    },
    {
      "cell_type": "code",
      "metadata": {
        "id": "aZ6mWlKO3w9y",
        "colab_type": "code",
        "colab": {
          "base_uri": "https://localhost:8080/",
          "height": 417
        },
        "outputId": "e2d8049f-4698-4532-8760-f2bac173333b"
      },
      "source": [
        "comment_ids = response.json()['submitted']\n",
        "#Cummulative user text\n",
        "user_text = ''\n",
        "for i in comment_ids:\n",
        "  response = requests.get(f'https://hacker-news.firebaseio.com/v0/item/{i}.json')\n",
        "  sentence = response.json()['text']\n",
        "  print(sentence)\n",
        "  "
      ],
      "execution_count": 35,
      "outputs": [
        {
          "output_type": "stream",
          "text": [
            "Why at all bother when you can run normal GNU&#x2F;Linux arm software?\n",
            "Well screw T-Mobile then honestly. This in addition to their (from what I understand) abuse of the FCC TV white space database kind of undoes any goodwill they had in my mind.\n",
            "Honestly I&#x27;d be happy with just 2g and no mms at this point.\n",
            "It’s about having a complete specification so that the compiler and VM can be correct.<p>Correctness when you have arbitrarily long input gets complicated very easily. I was originally skeptical when reading, it seemed ridiculous and arbitrary, until I realized that’s what they were going for.\n",
            "You could install your own OS on it: <a href=\"https:&#x2F;&#x2F;www.reddit.com&#x2F;r&#x2F;teslamotors&#x2F;comments&#x2F;a1fln4&#x2F;rooted_tesla_model_3_running_ubuntu_and_youtube&#x2F;\" rel=\"nofollow\">https:&#x2F;&#x2F;www.reddit.com&#x2F;r&#x2F;teslamotors&#x2F;comments&#x2F;a1fln4&#x2F;rooted_...</a>\n",
            "That’s kind of crazy. Firefox and libreoffice don’t do well in 1 Gig of ram but at least they’re <i>doing something.</i> You can run a decent DE and few decent apps in 1gig just fine with most Linux distros.\n",
            "I remember finding the SICP in our university’s library as a freshman, me and a friend (both of us had never used scheme) had a lot of fun going through the first chapter together.\n",
            "If you want something structured like a math book, I learned from Walter Piston’s “Harmony.” I can’t find a place to pirate it (actually I did find an incredibly low quality scan somewhere after a week of searching) but it’s not an expensive book. I found it used (signed by “dean Howard” I think) while wandering around in my favorite book store in Lynchburg (Lynchburg and Charlottesville both have amazing small bookstores if you live in VA I would totally recommend checking them out.)<p>I think the only thing you’ll need to know going into it is how to read sheet music.<p>It doesn’t really go too much into counterpoint or melody if I remember correctly, for those there are couple YouTube channels I ended up watching that are pretty much just a narrator analyzing other people’s music:<p>1) 8bit music theory<p>2) Richard Atkinson<p>There are others but those are my favorites.\n",
            "If that were really the case people would care about wether you can program or not rather than if you have a degree which is the primary thing that most companies filter candidates on.\n",
            "Meh. You can’t use <i>string search</i> to find patterns in wasm files per se. You can look for byte equivalence in functions (or whatever they’re called in wasm.) Thinking of wasm as compiles machine code isn’t quite right (IMO) as it more closely resembles a serialized abstract syntax tree.\n"
          ],
          "name": "stdout"
        },
        {
          "output_type": "error",
          "ename": "KeyError",
          "evalue": "ignored",
          "traceback": [
            "\u001b[0;31m---------------------------------------------------------------------------\u001b[0m",
            "\u001b[0;31mKeyError\u001b[0m                                  Traceback (most recent call last)",
            "\u001b[0;32m<ipython-input-35-7f23f011b7f2>\u001b[0m in \u001b[0;36m<module>\u001b[0;34m()\u001b[0m\n\u001b[1;32m      4\u001b[0m \u001b[0;32mfor\u001b[0m \u001b[0mi\u001b[0m \u001b[0;32min\u001b[0m \u001b[0mcomment_ids\u001b[0m\u001b[0;34m:\u001b[0m\u001b[0;34m\u001b[0m\u001b[0;34m\u001b[0m\u001b[0m\n\u001b[1;32m      5\u001b[0m   \u001b[0mresponse\u001b[0m \u001b[0;34m=\u001b[0m \u001b[0mrequests\u001b[0m\u001b[0;34m.\u001b[0m\u001b[0mget\u001b[0m\u001b[0;34m(\u001b[0m\u001b[0;34mf'https://hacker-news.firebaseio.com/v0/item/{i}.json'\u001b[0m\u001b[0;34m)\u001b[0m\u001b[0;34m\u001b[0m\u001b[0;34m\u001b[0m\u001b[0m\n\u001b[0;32m----> 6\u001b[0;31m   \u001b[0msentence\u001b[0m \u001b[0;34m=\u001b[0m \u001b[0mresponse\u001b[0m\u001b[0;34m.\u001b[0m\u001b[0mjson\u001b[0m\u001b[0;34m(\u001b[0m\u001b[0;34m)\u001b[0m\u001b[0;34m[\u001b[0m\u001b[0;34m'text'\u001b[0m\u001b[0;34m]\u001b[0m\u001b[0;34m\u001b[0m\u001b[0;34m\u001b[0m\u001b[0m\n\u001b[0m\u001b[1;32m      7\u001b[0m   \u001b[0mprint\u001b[0m\u001b[0;34m(\u001b[0m\u001b[0msentence\u001b[0m\u001b[0;34m)\u001b[0m\u001b[0;34m\u001b[0m\u001b[0;34m\u001b[0m\u001b[0m\n\u001b[1;32m      8\u001b[0m \u001b[0;34m\u001b[0m\u001b[0m\n",
            "\u001b[0;31mKeyError\u001b[0m: 'text'"
          ]
        }
      ]
    },
    {
      "cell_type": "code",
      "metadata": {
        "id": "PSzTakiMebGV",
        "colab_type": "code",
        "colab": {
          "base_uri": "https://localhost:8080/",
          "height": 34
        },
        "outputId": "07deba00-9962-4d9c-b169-ba99d699030a"
      },
      "source": [
        "# comment_ids = response.json()['submitted']\n",
        "#Cummulative user text\n",
        "user_text = ''\n",
        "response = requests.get(f'https://hacker-news.firebaseio.com/v0/item/21813872.json')\n",
        "sentence = response.json()\n",
        "print(sentence)\n",
        "  "
      ],
      "execution_count": 47,
      "outputs": [
        {
          "output_type": "stream",
          "text": [
            "{'deleted': True, 'id': 21813872, 'parent': 21813410, 'time': 1576593811, 'type': 'comment'}\n"
          ],
          "name": "stdout"
        }
      ]
    },
    {
      "cell_type": "code",
      "metadata": {
        "id": "PfeIXNZngHXf",
        "colab_type": "code",
        "colab": {}
      },
      "source": [
        ""
      ],
      "execution_count": 0,
      "outputs": []
    }
  ]
}